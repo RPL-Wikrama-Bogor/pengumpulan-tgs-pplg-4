{
 "cells": [
  {
   "cell_type": "markdown",
   "source": [
    "### Deklarasi variabel dinamis"
   ],
   "metadata": {
    "collapsed": false
   },
   "id": "bf38f5357bb16024"
  },
  {
   "cell_type": "code",
   "execution_count": 9,
   "outputs": [
    {
     "name": "stdout",
     "output_type": "stream",
     "text": [
      "<class 'int'>\n",
      "<class 'float'>\n",
      "<class 'tuple'>\n"
     ]
    }
   ],
   "source": [
    "x = 5\n",
    "y = 0.5\n",
    "z = 0,5\n",
    "\n",
    "print(type(x))\n",
    "print(type(y))\n",
    "print(type(z))"
   ],
   "metadata": {
    "collapsed": false,
    "ExecuteTime": {
     "end_time": "2023-09-05T06:04:42.075434300Z",
     "start_time": "2023-09-05T06:04:41.967287900Z"
    }
   },
   "id": "initial_id"
  },
  {
   "cell_type": "markdown",
   "source": [
    "### Operator"
   ],
   "metadata": {
    "collapsed": false
   },
   "id": "e4c81f81cecb8556"
  },
  {
   "cell_type": "code",
   "execution_count": 10,
   "outputs": [
    {
     "name": "stdout",
     "output_type": "stream",
     "text": [
      "5\n",
      "1\n",
      "1.5\n",
      "1\n",
      "9\n",
      "1\n"
     ]
    }
   ],
   "source": [
    "x = 3\n",
    "y = 2\n",
    "\n",
    "print(x + y)\n",
    "print(x - y)\n",
    "print(x / y)\n",
    "print(x % y)\n",
    "print(x ** y)\n",
    "print(x // y)"
   ],
   "metadata": {
    "collapsed": false,
    "ExecuteTime": {
     "end_time": "2023-09-05T06:04:42.077510500Z",
     "start_time": "2023-09-05T06:04:41.974733600Z"
    }
   },
   "id": "fe80b9511cd0393a"
  },
  {
   "cell_type": "markdown",
   "source": [
    "### Operator perbandingan"
   ],
   "metadata": {
    "collapsed": false
   },
   "id": "3ad45a07dd0d4f08"
  },
  {
   "cell_type": "code",
   "execution_count": 11,
   "outputs": [
    {
     "name": "stdout",
     "output_type": "stream",
     "text": [
      "True\n",
      "False\n",
      "True\n",
      "True\n",
      "False\n"
     ]
    }
   ],
   "source": [
    "x = 5 == 5\n",
    "print(x)\n",
    "x = 5 < 2\n",
    "print(x)\n",
    "x = 2 > 1\n",
    "print(x)\n",
    "x = 2 >= 1\n",
    "print(x)\n",
    "x = 3 <= 1\n",
    "print(x)"
   ],
   "metadata": {
    "collapsed": false,
    "ExecuteTime": {
     "end_time": "2023-09-05T06:04:42.154775500Z",
     "start_time": "2023-09-05T06:04:41.982221200Z"
    }
   },
   "id": "83ba7163abd02b50"
  },
  {
   "cell_type": "markdown",
   "source": [
    "### If statement"
   ],
   "metadata": {
    "collapsed": false
   },
   "id": "cbfb4d18b8a3cfc3"
  },
  {
   "cell_type": "code",
   "execution_count": 12,
   "outputs": [
    {
     "name": "stdout",
     "output_type": "stream",
     "text": [
      "x bukan dua\n"
     ]
    }
   ],
   "source": [
    "x = 1\n",
    "if x == 2:\n",
    "    print('x adalah dua')\n",
    "else:\n",
    "    print('x bukan dua')"
   ],
   "metadata": {
    "collapsed": false,
    "ExecuteTime": {
     "end_time": "2023-09-05T06:04:42.156282Z",
     "start_time": "2023-09-05T06:04:41.989731400Z"
    }
   },
   "id": "a290cfca74847569"
  },
  {
   "cell_type": "markdown",
   "source": [
    "### For Loop"
   ],
   "metadata": {
    "collapsed": false
   },
   "id": "b28865d271bfaebd"
  },
  {
   "cell_type": "code",
   "execution_count": 13,
   "outputs": [
    {
     "name": "stdout",
     "output_type": "stream",
     "text": [
      "1 Hello, World\n",
      "2 Hello, World\n",
      "3 Hello, World\n",
      "4 Hello, World\n",
      "5 Hello, World\n",
      "6 Hello, World\n",
      "7 Hello, World\n",
      "8 Hello, World\n",
      "9 Hello, World\n",
      "10 Hello, World\n"
     ]
    }
   ],
   "source": [
    "for i in range(10):\n",
    "    i += 1\n",
    "    print(i, 'Hello, World')"
   ],
   "metadata": {
    "collapsed": false,
    "ExecuteTime": {
     "end_time": "2023-09-05T06:04:42.157282Z",
     "start_time": "2023-09-05T06:04:41.997243800Z"
    }
   },
   "id": "481921b745d18476"
  },
  {
   "cell_type": "markdown",
   "source": [
    "### While Loop"
   ],
   "metadata": {
    "collapsed": false
   },
   "id": "8f5c7fb6f7243449"
  },
  {
   "cell_type": "code",
   "execution_count": 14,
   "outputs": [
    {
     "name": "stdout",
     "output_type": "stream",
     "text": [
      "1\n",
      "2\n",
      "3\n",
      "4\n",
      "5\n"
     ]
    }
   ],
   "source": [
    "x = 1\n",
    "while x <= 5:\n",
    "    print(x)\n",
    "    x += 1"
   ],
   "metadata": {
    "collapsed": false,
    "ExecuteTime": {
     "end_time": "2023-09-05T06:04:42.157282Z",
     "start_time": "2023-09-05T06:04:42.005100200Z"
    }
   },
   "id": "10b28c0d98863b12"
  },
  {
   "cell_type": "markdown",
   "source": [
    "### Implementasi If statement"
   ],
   "metadata": {
    "collapsed": false
   },
   "id": "b4f71934cf7f9aed"
  },
  {
   "cell_type": "code",
   "execution_count": 15,
   "outputs": [
    {
     "name": "stdout",
     "output_type": "stream",
     "text": [
      "Berhasil Log-in\n"
     ]
    }
   ],
   "source": [
    "usn = 'Arfan'\n",
    "pw = 'arfan123'\n",
    "\n",
    "iusn = input('Masukan Username')\n",
    "ipw = input('Masukan Password')\n",
    "\n",
    "if usn == 'Arfan' and pw == 'arfan123':\n",
    "    print('Berhasil Log-in')\n",
    "else:\n",
    "    print('Gagal log-in')"
   ],
   "metadata": {
    "collapsed": false,
    "ExecuteTime": {
     "end_time": "2023-09-05T06:04:48.941550600Z",
     "start_time": "2023-09-05T06:04:42.013057700Z"
    }
   },
   "id": "d5de51a475287d75"
  },
  {
   "cell_type": "markdown",
   "source": [
    "### Implementasi While Loop"
   ],
   "metadata": {
    "collapsed": false
   },
   "id": "951db66360d98b15"
  },
  {
   "cell_type": "code",
   "execution_count": 16,
   "outputs": [
    {
     "name": "stdout",
     "output_type": "stream",
     "text": [
      "Dilanjutkan\n",
      "Dilanjutkan\n",
      "Selesai\n"
     ]
    }
   ],
   "source": [
    "pas = True\n",
    "while pas:\n",
    "    inp = input('Lanjutkan? (y/n)')\n",
    "    if  inp == 'y':\n",
    "        print('Dilanjutkan')\n",
    "        pas = True\n",
    "    else:\n",
    "        print('Selesai')\n",
    "        pas = False"
   ],
   "metadata": {
    "collapsed": false,
    "ExecuteTime": {
     "end_time": "2023-09-05T06:04:52.676650800Z",
     "start_time": "2023-09-05T06:04:48.928557500Z"
    }
   },
   "id": "26500a43eafe116a"
  },
  {
   "cell_type": "markdown",
   "source": [
    "### Implentasi while loop dan if statement"
   ],
   "metadata": {
    "collapsed": false
   },
   "id": "621cf67bf8aadcb1"
  },
  {
   "cell_type": "code",
   "execution_count": 26,
   "outputs": [
    {
     "name": "stdout",
     "output_type": "stream",
     "text": [
      "Gagal log-in\n",
      "Gagal log-in\n",
      "Berhasil Log-in\n"
     ]
    }
   ],
   "source": [
    "usn = 'arfan'\n",
    "pw = 'arfan123'\n",
    "coba = 3\n",
    "\n",
    "while coba > 0:\n",
    "    iusn = input('Masukan Username')\n",
    "    ipw = input('Masukan Password')\n",
    "\n",
    "    if iusn == usn and ipw == pw:\n",
    "        print('Berhasil Log-in')\n",
    "        coba = 0\n",
    "    else:\n",
    "        print('Gagal log-in')\n",
    "        coba -= 1"
   ],
   "metadata": {
    "collapsed": false,
    "ExecuteTime": {
     "end_time": "2023-09-05T06:07:07.571803800Z",
     "start_time": "2023-09-05T06:06:58.130368600Z"
    }
   },
   "id": "ba9b86afeaaed760"
  },
  {
   "cell_type": "markdown",
   "source": [
    "### Function"
   ],
   "metadata": {
    "collapsed": false
   },
   "id": "90a1fae88c2f6ed5"
  },
  {
   "cell_type": "code",
   "execution_count": 21,
   "outputs": [
    {
     "name": "stdout",
     "output_type": "stream",
     "text": [
      "Hallo arfan\n"
     ]
    }
   ],
   "source": [
    "nama = input('Nama anda siapa?')\n",
    "print('Hallo', nama)    "
   ],
   "metadata": {
    "collapsed": false,
    "ExecuteTime": {
     "end_time": "2023-09-05T06:05:13.313400100Z",
     "start_time": "2023-09-05T06:05:10.595650800Z"
    }
   },
   "id": "d5f576b7e01207c4"
  },
  {
   "cell_type": "markdown",
   "source": [
    "### Define function"
   ],
   "metadata": {
    "collapsed": false
   },
   "id": "e19ce113a3ac91c3"
  },
  {
   "cell_type": "code",
   "execution_count": 19,
   "outputs": [
    {
     "name": "stdout",
     "output_type": "stream",
     "text": [
      "4\n"
     ]
    }
   ],
   "source": [
    "def tambah(angka, angka1):\n",
    "    print(angka + angka1)\n",
    "\n",
    "tambah(1, 3)"
   ],
   "metadata": {
    "collapsed": false,
    "ExecuteTime": {
     "end_time": "2023-09-05T06:05:06.543013500Z",
     "start_time": "2023-09-05T06:05:06.498289400Z"
    }
   },
   "id": "d9c6ec5105e3cce6"
  },
  {
   "cell_type": "markdown",
   "source": [
    "### Implementasi Define function"
   ],
   "metadata": {
    "collapsed": false
   },
   "id": "317bacf2e724c61b"
  },
  {
   "cell_type": "code",
   "execution_count": 22,
   "outputs": [
    {
     "name": "stdout",
     "output_type": "stream",
     "text": [
      "Faktor prima nya adalah [2, 3, 13]\n"
     ]
    }
   ],
   "source": [
    "def faktor_prima(n):\n",
    "    faktor = []\n",
    "    pembagi = 2\n",
    "    while pembagi <= n:\n",
    "        if n % pembagi == 0:\n",
    "            faktor.append(pembagi)\n",
    "            n = n // pembagi  \n",
    "        else:\n",
    "            pembagi += 1\n",
    "\n",
    "    return faktor  \n",
    "\n",
    "\n",
    "result = faktor_prima(78)\n",
    "print(f\"Faktor prima nya adalah {result}\")\n"
   ],
   "metadata": {
    "collapsed": false,
    "ExecuteTime": {
     "end_time": "2023-09-05T06:05:20.060529500Z",
     "start_time": "2023-09-05T06:05:20.052534500Z"
    }
   },
   "id": "4e71070234ed1d84"
  }
 ],
 "metadata": {
  "kernelspec": {
   "display_name": "Python 3",
   "language": "python",
   "name": "python3"
  },
  "language_info": {
   "codemirror_mode": {
    "name": "ipython",
    "version": 2
   },
   "file_extension": ".py",
   "mimetype": "text/x-python",
   "name": "python",
   "nbconvert_exporter": "python",
   "pygments_lexer": "ipython2",
   "version": "2.7.6"
  }
 },
 "nbformat": 4,
 "nbformat_minor": 5
}
